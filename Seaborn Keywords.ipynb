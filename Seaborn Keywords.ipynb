{
 "cells": [
  {
   "cell_type": "markdown",
   "id": "8d92def6",
   "metadata": {},
   "source": [
    "# Keywords\n",
    "## 1. hue (hue always take categorical column/element )\n",
    "## 2. style\n",
    "## 3. size (It take the column/elements)\n",
    "## 4. sizes (It increase the elements size in the graph)\n",
    "## 5. kind  (kind only use relplot)\n",
    "## 6. annot=True (annot use in heatmap it gives the numeric value in the heatmap for correlation)\n",
    "## 7. order=[Enter column order] (We can also give the order of the column in countplot)\n",
    "## 8. palette=[Enter Color Name] (We can give the color name with the help of palette in barplot)\n",
    "## 9. estimator=sum/max/min/mean (It is use in catplot)"
   ]
  }
 ],
 "metadata": {
  "kernelspec": {
   "display_name": "Python 3 (ipykernel)",
   "language": "python",
   "name": "python3"
  },
  "language_info": {
   "codemirror_mode": {
    "name": "ipython",
    "version": 3
   },
   "file_extension": ".py",
   "mimetype": "text/x-python",
   "name": "python",
   "nbconvert_exporter": "python",
   "pygments_lexer": "ipython3",
   "version": "3.9.12"
  }
 },
 "nbformat": 4,
 "nbformat_minor": 5
}
