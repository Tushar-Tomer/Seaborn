{
 "cells": [
  {
   "cell_type": "markdown",
   "id": "2eafb354",
   "metadata": {},
   "source": [
    "# Creating different types of plot\n",
    "## 1. Relational plots\n",
    "####  1.1. scatterplot()\n",
    "####  1.2. lineplot()\n",
    "####  1.3 relplot()\n",
    "## 2. Pairplot\n",
    "## 3. Categorical plots\n",
    "####  3.1 Stripplot\n",
    "####  3.2 Swarmplot\n",
    "####  3.3 catplot\n",
    "## 4. Categoricl Distribution plot \n",
    "####  4.1 boxplot\n",
    "####  4.2 violinplot\n",
    "## 5. Categorical estimate plots\n",
    "####  5.1 point plot\n",
    "####  5.2 Barplot \n",
    "####  5.3 countplot \n",
    "## 6. heatmaps\n",
    "## 7. Distribution plot(distplot,jointplot)\n",
    "## 8. Regression plots\n",
    "####  8.1 Implot\n",
    "####  8.2 regplot\n",
    "## 9. relplot() "
   ]
  },
  {
   "cell_type": "markdown",
   "id": "b1ccc4cd",
   "metadata": {},
   "source": [
    "# 1. Numerical plot\n",
    "## (i) relplot()\n",
    "## (ii) scatterplot()\n",
    "## (iii) lineplot()\n",
    "\n",
    "# Relational plots / Statistical plots\n",
    "# Relational plots : It is used to perform bivariate/multivariate analysis\n",
    "## 1. scatterplot\n",
    "## 2. lineplot"
   ]
  }
 ],
 "metadata": {
  "kernelspec": {
   "display_name": "Python 3 (ipykernel)",
   "language": "python",
   "name": "python3"
  },
  "language_info": {
   "codemirror_mode": {
    "name": "ipython",
    "version": 3
   },
   "file_extension": ".py",
   "mimetype": "text/x-python",
   "name": "python",
   "nbconvert_exporter": "python",
   "pygments_lexer": "ipython3",
   "version": "3.9.12"
  }
 },
 "nbformat": 4,
 "nbformat_minor": 5
}
